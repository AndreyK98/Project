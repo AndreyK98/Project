{
 "cells": [
  {
   "cell_type": "code",
   "execution_count": 1,
   "id": "0797a7ba",
   "metadata": {},
   "outputs": [],
   "source": [
    "import pandas as pd"
   ]
  },
  {
   "cell_type": "code",
   "execution_count": null,
   "id": "33b46a7c",
   "metadata": {},
   "outputs": [],
   "source": [
    "pd.read_parquet('')"
   ]
  },
  {
   "cell_type": "code",
   "execution_count": null,
   "id": "bea4c2d5",
   "metadata": {},
   "outputs": [],
   "source": []
  },
  {
   "cell_type": "code",
   "execution_count": null,
   "id": "3e8a6bcc",
   "metadata": {},
   "outputs": [],
   "source": [
    "    train_set_size = int(len(train_set) * 0.8)\n",
    "    valid_set_size = len(train_set) - train_set_size\n",
    "    train_set, valid_set = data.random_split(train_set, [train_set_size, valid_set_size])\n"
   ]
  }
 ],
 "metadata": {
  "kernelspec": {
   "display_name": "Python 3 (ipykernel)",
   "language": "python",
   "name": "python3"
  },
  "language_info": {
   "codemirror_mode": {
    "name": "ipython",
    "version": 3
   },
   "file_extension": ".py",
   "mimetype": "text/x-python",
   "name": "python",
   "nbconvert_exporter": "python",
   "pygments_lexer": "ipython3",
   "version": "3.10.9"
  }
 },
 "nbformat": 4,
 "nbformat_minor": 5
}
